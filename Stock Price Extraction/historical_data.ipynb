{
 "cells": [
  {
   "cell_type": "code",
   "execution_count": 57,
   "metadata": {},
   "outputs": [],
   "source": [
    "import datetime\n",
    "import pandas as pd"
   ]
  },
  {
   "cell_type": "code",
   "execution_count": 58,
   "metadata": {},
   "outputs": [
    {
     "name": "stdout",
     "output_type": "stream",
     "text": [
      "https://query1.finance.yahoo.com/v7/finance/download/SBIN.NS?period1=1595183400&period2=1595615400&interval=1d&events=history\n",
      "1595183400 1595615400\n"
     ]
    }
   ],
   "source": [
    "stockcode ='SBIN'\n",
    "\n",
    "ts1 = str(int(datetime.datetime(2020, 7, 20).timestamp())) \n",
    "ts2 = str(int(datetime.datetime(2020, 7, 25).timestamp()))\n",
    "\n",
    "interval = '1d'\n",
    "# interval = '1wk'\n",
    "#interval = '1mo'\n",
    "\n",
    "events = 'history'\n",
    "#events = 'div'\n",
    "#events = 'split'\n",
    "\n",
    "url = 'https://query1.finance.yahoo.com/v7/finance/download/'\\\n",
    "      + stockcode + '.NS?period1=' + ts1 + '&period2=' + ts2 + '&interval='\\\n",
    "      + interval + '&events=' + events\n",
    "\n",
    "print(url)\n",
    "print (ts1, ts2)"
   ]
  },
  {
   "cell_type": "code",
   "execution_count": null,
   "metadata": {},
   "outputs": [],
   "source": []
  },
  {
   "cell_type": "code",
   "execution_count": 59,
   "metadata": {},
   "outputs": [
    {
     "name": "stdout",
     "output_type": "stream",
     "text": [
      "         Date        Open        High         Low       Close   Adj Close  \\\n",
      "0  2020-07-20  190.000000  193.250000  188.750000  190.750000  189.005005   \n",
      "1  2020-07-21  192.449997  196.199997  191.500000  194.399994  192.621613   \n",
      "2  2020-07-22  195.699997  196.750000  190.100006  192.000000  190.243576   \n",
      "3  2020-07-23  192.399994  199.100006  191.149994  198.250000  196.436401   \n",
      "4  2020-07-24  195.699997  196.300003  190.649994  191.949997  190.194031   \n",
      "\n",
      "     Volume  \n",
      "0  45672856  \n",
      "1  59281860  \n",
      "2  62276152  \n",
      "3  70801412  \n",
      "4  65265493  \n"
     ]
    }
   ],
   "source": [
    "try:\n",
    "    stockdata = pd.read_csv(url)\n",
    "    stockdata.to_csv('stockdata.csv')\n",
    "    print(stockdata)\n",
    "except:\n",
    "    print(\"Not able to fetch value for code : \"+stockcode)\n",
    "    print(\"Either stock code is not correct or could be connectivity issue..\")"
   ]
  }
 ],
 "metadata": {
  "interpreter": {
   "hash": "941096ab4a304f3509822dba92ee1d36e30c4bf17f0e34fdfd12300d4a2ccfca"
  },
  "kernelspec": {
   "display_name": "Python 3.9.7 64-bit",
   "language": "python",
   "name": "python3"
  },
  "language_info": {
   "codemirror_mode": {
    "name": "ipython",
    "version": 3
   },
   "file_extension": ".py",
   "mimetype": "text/x-python",
   "name": "python",
   "nbconvert_exporter": "python",
   "pygments_lexer": "ipython3",
   "version": "3.9.7"
  },
  "orig_nbformat": 4
 },
 "nbformat": 4,
 "nbformat_minor": 2
}

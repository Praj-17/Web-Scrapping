{
 "cells": [
  {
   "cell_type": "code",
   "execution_count": 15,
   "metadata": {},
   "outputs": [],
   "source": [
    "from bs4 import BeautifulSoup\n",
    "import bs4\n",
    "import requests\n",
    "url = 'https://www.engineersedge.com/design_guidelines.htm'"
   ]
  },
  {
   "cell_type": "code",
   "execution_count": 8,
   "metadata": {},
   "outputs": [
    {
     "data": {
      "text/plain": [
       "'<HTML>\\n<HEAD>\\n<TITLE>Your organization has been banned at Engineers Edge</title>\\n<link rel=\"canonical\" href=\"https://www.engineersedge.com/403.shtml\" />\\n<meta name=\"description\" content=\"403 you\\'ve been banned from Engineers Edge webpage.\">\\n</HEAD>\\n<body> \\n<p align=\"left\"><img src=\"/ipaddress/403.gif\" width=\"165\" height=\"65\"> \\n<p align=\"left\"><font size=\"5\">Date:\\n  Sunday, 27-Nov-2022 03:26:35 EST \\n  </font></p> \\n<p align=\"left\"><font size=\"5\">User Remote Address (IP):&nbsp; \\n  49.36.58.208 \\n  </font> </p> \\n<p align=\"left\"><font size=\"5\">User Remote Address Host:&nbsp; \\n  (none) \\n  </font> </p> \\n<p align=\"left\"><font size=\"5\">User Remote Address Referer:&nbsp; \\n  (none) \\n  </font> </p> \\n<p align=\"left\"><font size=\"5\">User Agent:\\n  python-requests/2.27.1 \\n  </font> </p> \\n<table width=\"960\" border=\"0\"> \\n  <tr> \\n    <td scope=\"row\"><div align=\"left\"> \\n        <p align=\"left\">Dear Visitor,\\n        <p align=\"left\">You have been redirected to this web page because your organization/access has been banned from Engineers Edge (www.engineersedge.com).\\n        <p align=\"left\">Engineers Edge staff has identified you or your organization as having problems with one or more of the following:\\n        <ul> \\n          <li>Hacking</li> \\n          <li>Unauthorized web robot</li> \\n          <li>Copyright infringement, see <a href=\"http://www.copyright.gov/title17/92chap5.html\">U.S. Copyright Law</a> and <a href=\"http://www.copyright.gov/\">Copyright Office </a></li> \\n          <li>Password violations</li> \\n          <li>Web site copying or downloading</li> \\n          <li>Spam</li> \\n          <li>Engineering Forum Violations </li> \\n          <li>Technology News Release Violations</li> \\n          <li>Unauthorized files copied to your network or computer hard drive</li> \\n          <li>other...</li> \\n        </ul> \\n        <p>About Engineers Edge (www.engineersedge.com) - Engineers Edge is a free premier portal for design,&nbsp; engineering and manufacturing professionals worldwide.&nbsp; Currently, Engineers Edge supports activities for more than 2 million users every month and serves millions of page views. </p> \\n        <p>If you wish to resolve your access ban issue, please contact your responsible IT professional, manager, or legal representative and have them; record and email or provide all of the information shown above (at page top) to:</p> \\n        <p>Webmaster at engineersedge.com - replace the ( at ) with a @</p> \\n        <p><strong>All correspondence must be done by email. </strong></p> \\n        <p>Resolution may require a signed user agreement, verification on internal training, legal or executive personnel engagement.</p> \\n        <p>Best regards</p> \\n      </div></td> \\n  </tr> \\n</table> \\n</BODY>\\n</HTML>\\n'"
      ]
     },
     "execution_count": 8,
     "metadata": {},
     "output_type": "execute_result"
    }
   ],
   "source": [
    "response = requests.get(url)\n",
    "response.text"
   ]
  },
  {
   "cell_type": "code",
   "execution_count": 10,
   "metadata": {},
   "outputs": [],
   "source": [
    "\n",
    "simple_soup = BeautifulSoup(response.text, 'html.parser') \n",
    "paras = simple_soup.find_all('p')\n",
    "for i in paras:\n",
    "    print(i.text)"
   ]
  },
  {
   "cell_type": "markdown",
   "metadata": {},
   "source": [
    "# Composing a Function"
   ]
  },
  {
   "cell_type": "code",
   "execution_count": 29,
   "metadata": {},
   "outputs": [],
   "source": [
    "from bs4 import BeautifulSoup\n",
    "import bs4\n",
    "import requests\n",
    "url = 'https://www.engineersedge.com/design_guidelines.htm'\n",
    "def get_text(url):\n",
    "    response = requests.get(url)  \n",
    "    simple_soup = BeautifulSoup(response.text, 'html.parser') \n",
    "    paras = simple_soup.find_all('p')\n",
    "    file_name = url.split('/')[-1]\n",
    "    \n",
    "    with open(f'{file_name}.txt', 'w') as f:\n",
    "        for i in paras:\n",
    "            f.write(i.text)\n",
    "    return True"
   ]
  },
  {
   "cell_type": "code",
   "execution_count": 30,
   "metadata": {},
   "outputs": [
    {
     "data": {
      "text/plain": [
       "True"
      ]
     },
     "execution_count": 30,
     "metadata": {},
     "output_type": "execute_result"
    }
   ],
   "source": [
    "get_text(url)"
   ]
  },
  {
   "cell_type": "code",
   "execution_count": null,
   "metadata": {},
   "outputs": [],
   "source": []
  }
 ],
 "metadata": {
  "kernelspec": {
   "display_name": "Python 3.9.7 64-bit",
   "language": "python",
   "name": "python3"
  },
  "language_info": {
   "codemirror_mode": {
    "name": "ipython",
    "version": 3
   },
   "file_extension": ".py",
   "mimetype": "text/x-python",
   "name": "python",
   "nbconvert_exporter": "python",
   "pygments_lexer": "ipython3",
   "version": "3.9.7"
  },
  "orig_nbformat": 4,
  "vscode": {
   "interpreter": {
    "hash": "941096ab4a304f3509822dba92ee1d36e30c4bf17f0e34fdfd12300d4a2ccfca"
   }
  }
 },
 "nbformat": 4,
 "nbformat_minor": 2
}

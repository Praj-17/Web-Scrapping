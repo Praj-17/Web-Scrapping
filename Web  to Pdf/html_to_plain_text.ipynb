{
 "cells": [
  {
   "cell_type": "code",
   "execution_count": 15,
   "metadata": {},
   "outputs": [],
   "source": [
    "from bs4 import BeautifulSoup\n",
    "import bs4\n",
    "import requests\n",
    "url = 'https://www.engineersedge.com/design_guidelines.htm'"
   ]
  },
  {
   "cell_type": "code",
   "execution_count": 16,
   "metadata": {},
   "outputs": [
    {
     "data": {
      "text/plain": [
       "'<HTML>\\n<HEAD>\\n<TITLE>Your organization has been banned at Engineers Edge</title>\\n<link rel=\"canonical\" href=\"https://www.engineersedge.com/403.shtml\" />\\n<meta name=\"description\" content=\"403 you\\'ve been banned from Engineers Edge webpage.\">\\n</HEAD>\\n<body> \\n<p align=\"left\"><img src=\"/ipaddress/403.gif\" width=\"165\" height=\"65\"> \\n<p align=\"left\"><font size=\"5\">Date:\\n  Saturday, 03-Dec-2022 13:01:16 EST \\n  </font></p> \\n<p align=\"left\"><font size=\"5\">User Remote Address (IP):&nbsp; \\n  49.36.56.169 \\n  </font> </p> \\n<p align=\"left\"><font size=\"5\">User Remote Address Host:&nbsp; \\n  (none) \\n  </font> </p> \\n<p align=\"left\"><font size=\"5\">User Remote Address Referer:&nbsp; \\n  (none) \\n  </font> </p> \\n<p align=\"left\"><font size=\"5\">User Agent:\\n  python-requests/2.26.0 \\n  </font> </p> \\n<table width=\"960\" border=\"0\"> \\n  <tr> \\n    <td scope=\"row\"><div align=\"left\"> \\n        <p align=\"left\">Dear Visitor,\\n        <p align=\"left\">You have been redirected to this web page because your organization/access has been banned from Engineers Edge (www.engineersedge.com).\\n        <p align=\"left\">Engineers Edge staff has identified you or your organization as having problems with one or more of the following:\\n        <ul> \\n          <li>Hacking</li> \\n          <li>Unauthorized web robot</li> \\n          <li>Copyright infringement, see <a href=\"http://www.copyright.gov/title17/92chap5.html\">U.S. Copyright Law</a> and <a href=\"http://www.copyright.gov/\">Copyright Office </a></li> \\n          <li>Password violations</li> \\n          <li>Web site copying or downloading</li> \\n          <li>Spam</li> \\n          <li>Engineering Forum Violations </li> \\n          <li>Technology News Release Violations</li> \\n          <li>Unauthorized files copied to your network or computer hard drive</li> \\n          <li>other...</li> \\n        </ul> \\n        <p>About Engineers Edge (www.engineersedge.com) - Engineers Edge is a free premier portal for design,&nbsp; engineering and manufacturing professionals worldwide.&nbsp; Currently, Engineers Edge supports activities for more than 2 million users every month and serves millions of page views. </p> \\n        <p>If you wish to resolve your access ban issue, please contact your responsible IT professional, manager, or legal representative and have them; record and email or provide all of the information shown above (at page top) to:</p> \\n        <p>Webmaster at engineersedge.com - replace the ( at ) with a @</p> \\n        <p><strong>All correspondence must be done by email. </strong></p> \\n        <p>Resolution may require a signed user agreement, verification on internal training, legal or executive personnel engagement.</p> \\n        <p>Best regards</p> \\n      </div></td> \\n  </tr> \\n</table> \\n</BODY>\\n</HTML>\\n'"
      ]
     },
     "execution_count": 16,
     "metadata": {},
     "output_type": "execute_result"
    }
   ],
   "source": [
    "response = requests.get(url)\n",
    "response.text"
   ]
  },
  {
   "cell_type": "code",
   "execution_count": 17,
   "metadata": {},
   "outputs": [
    {
     "name": "stdout",
     "output_type": "stream",
     "text": [
      "\n",
      "Date:\n",
      "  Saturday, 03-Dec-2022 13:01:16 EST \n",
      "  \n",
      "User Remote Address (IP):  \n",
      "  49.36.56.169 \n",
      "   \n",
      "User Remote Address Host:  \n",
      "  (none) \n",
      "   \n",
      "User Remote Address Referer:  \n",
      "  (none) \n",
      "   \n",
      "User Agent:\n",
      "  python-requests/2.26.0 \n",
      "   \n",
      "\n",
      "\n",
      "\n",
      "Dear Visitor,\n",
      "        You have been redirected to this web page because your organization/access has been banned from Engineers Edge (www.engineersedge.com).\n",
      "        Engineers Edge staff has identified you or your organization as having problems with one or more of the following:\n",
      "        \n",
      "Hacking\n",
      "Unauthorized web robot\n",
      "Copyright infringement, see U.S. Copyright Law and Copyright Office \n",
      "Password violations\n",
      "Web site copying or downloading\n",
      "Spam\n",
      "Engineering Forum Violations \n",
      "Technology News Release Violations\n",
      "Unauthorized files copied to your network or computer hard drive\n",
      "other...\n",
      "\n",
      "About Engineers Edge (www.engineersedge.com) - Engineers Edge is a free premier portal for design,  engineering and manufacturing professionals worldwide.  Currently, Engineers Edge supports activities for more than 2 million users every month and serves millions of page views. \n",
      "If you wish to resolve your access ban issue, please contact your responsible IT professional, manager, or legal representative and have them; record and email or provide all of the information shown above (at page top) to:\n",
      "Webmaster at engineersedge.com - replace the ( at ) with a @\n",
      "All correspondence must be done by email. \n",
      "Resolution may require a signed user agreement, verification on internal training, legal or executive personnel engagement.\n",
      "Best regards\n",
      "\n",
      "\n",
      "\n",
      "\n",
      "Date:\n",
      "  Saturday, 03-Dec-2022 13:01:16 EST \n",
      "  \n",
      "User Remote Address (IP):  \n",
      "  49.36.56.169 \n",
      "   \n",
      "User Remote Address Host:  \n",
      "  (none) \n",
      "   \n",
      "User Remote Address Referer:  \n",
      "  (none) \n",
      "   \n",
      "User Agent:\n",
      "  python-requests/2.26.0 \n",
      "   \n",
      "Dear Visitor,\n",
      "        You have been redirected to this web page because your organization/access has been banned from Engineers Edge (www.engineersedge.com).\n",
      "        Engineers Edge staff has identified you or your organization as having problems with one or more of the following:\n",
      "        \n",
      "Hacking\n",
      "Unauthorized web robot\n",
      "Copyright infringement, see U.S. Copyright Law and Copyright Office \n",
      "Password violations\n",
      "Web site copying or downloading\n",
      "Spam\n",
      "Engineering Forum Violations \n",
      "Technology News Release Violations\n",
      "Unauthorized files copied to your network or computer hard drive\n",
      "other...\n",
      "\n",
      "About Engineers Edge (www.engineersedge.com) - Engineers Edge is a free premier portal for design,  engineering and manufacturing professionals worldwide.  Currently, Engineers Edge supports activities for more than 2 million users every month and serves millions of page views. \n",
      "If you wish to resolve your access ban issue, please contact your responsible IT professional, manager, or legal representative and have them; record and email or provide all of the information shown above (at page top) to:\n",
      "Webmaster at engineersedge.com - replace the ( at ) with a @\n",
      "All correspondence must be done by email. \n",
      "Resolution may require a signed user agreement, verification on internal training, legal or executive personnel engagement.\n",
      "Best regards\n",
      "\n",
      "You have been redirected to this web page because your organization/access has been banned from Engineers Edge (www.engineersedge.com).\n",
      "        Engineers Edge staff has identified you or your organization as having problems with one or more of the following:\n",
      "        \n",
      "Hacking\n",
      "Unauthorized web robot\n",
      "Copyright infringement, see U.S. Copyright Law and Copyright Office \n",
      "Password violations\n",
      "Web site copying or downloading\n",
      "Spam\n",
      "Engineering Forum Violations \n",
      "Technology News Release Violations\n",
      "Unauthorized files copied to your network or computer hard drive\n",
      "other...\n",
      "\n",
      "About Engineers Edge (www.engineersedge.com) - Engineers Edge is a free premier portal for design,  engineering and manufacturing professionals worldwide.  Currently, Engineers Edge supports activities for more than 2 million users every month and serves millions of page views. \n",
      "If you wish to resolve your access ban issue, please contact your responsible IT professional, manager, or legal representative and have them; record and email or provide all of the information shown above (at page top) to:\n",
      "Webmaster at engineersedge.com - replace the ( at ) with a @\n",
      "All correspondence must be done by email. \n",
      "Resolution may require a signed user agreement, verification on internal training, legal or executive personnel engagement.\n",
      "Best regards\n",
      "\n",
      "Engineers Edge staff has identified you or your organization as having problems with one or more of the following:\n",
      "        \n",
      "Hacking\n",
      "Unauthorized web robot\n",
      "Copyright infringement, see U.S. Copyright Law and Copyright Office \n",
      "Password violations\n",
      "Web site copying or downloading\n",
      "Spam\n",
      "Engineering Forum Violations \n",
      "Technology News Release Violations\n",
      "Unauthorized files copied to your network or computer hard drive\n",
      "other...\n",
      "\n",
      "About Engineers Edge (www.engineersedge.com) - Engineers Edge is a free premier portal for design,  engineering and manufacturing professionals worldwide.  Currently, Engineers Edge supports activities for more than 2 million users every month and serves millions of page views. \n",
      "If you wish to resolve your access ban issue, please contact your responsible IT professional, manager, or legal representative and have them; record and email or provide all of the information shown above (at page top) to:\n",
      "Webmaster at engineersedge.com - replace the ( at ) with a @\n",
      "All correspondence must be done by email. \n",
      "Resolution may require a signed user agreement, verification on internal training, legal or executive personnel engagement.\n",
      "Best regards\n",
      "\n",
      "About Engineers Edge (www.engineersedge.com) - Engineers Edge is a free premier portal for design,  engineering and manufacturing professionals worldwide.  Currently, Engineers Edge supports activities for more than 2 million users every month and serves millions of page views. \n",
      "If you wish to resolve your access ban issue, please contact your responsible IT professional, manager, or legal representative and have them; record and email or provide all of the information shown above (at page top) to:\n",
      "Webmaster at engineersedge.com - replace the ( at ) with a @\n",
      "All correspondence must be done by email. \n",
      "Resolution may require a signed user agreement, verification on internal training, legal or executive personnel engagement.\n",
      "Best regards\n"
     ]
    }
   ],
   "source": [
    "\n",
    "simple_soup = BeautifulSoup(response.text, 'html.parser') \n",
    "paras = simple_soup.find_all('p')\n",
    "for i in paras:\n",
    "    print(i.text)"
   ]
  },
  {
   "cell_type": "markdown",
   "metadata": {},
   "source": [
    "# Composing a Function"
   ]
  },
  {
   "cell_type": "code",
   "execution_count": 10,
   "metadata": {},
   "outputs": [
    {
     "name": "stderr",
     "output_type": "stream",
     "text": [
      "C:\\Users\\pwayk\\AppData\\Local\\Temp/ipykernel_31952/865423908.py:6: DeprecationWarning: executable_path has been deprecated, please pass in a Service object\n",
      "  browser = webdriver.Chrome(ChromeDriverManager().install())\n"
     ]
    }
   ],
   "source": [
    "from bs4 import BeautifulSoup\n",
    "import bs4\n",
    "import requests\n",
    "from selenium import webdriver\n",
    "from webdriver_manager.chrome import ChromeDriverManager\n",
    "browser = webdriver.Chrome(ChromeDriverManager().install())\n",
    "\n",
    "def get_text(url):\n",
    "\n",
    "   \n",
    "\n",
    "    browser.get(url)\n",
    "    simple_soup = BeautifulSoup(browser.page_source)\n",
    "\n",
    "    file_name = url.split('/')[-1]\n",
    "    with open(f'Htmls//{file_name}.html', 'w') as f:\n",
    "        f.write(str(simple_soup))\n",
    "    print(f'Done with {file_name}')\n",
    "    return True"
   ]
  },
  {
   "cell_type": "code",
   "execution_count": 11,
   "metadata": {},
   "outputs": [],
   "source": [
    "links = [\n",
    "'https://www.engineersedge.com/design_guidelines.htm',\n",
    "'https://www.efunda.com/DesignStandards/plastic_design/wall.cfm',\n",
    "'https://www.efunda.com/DesignStandards/plastic_design/ribs.cfm',\n",
    "'https://www.efunda.com/DesignStandards/plastic_design/boss.cfm',\n",
    "'https://www.efunda.com/DesignStandards/plastic_design/snaps.cfm',\n",
    "'https://www.efunda.com/DesignStandards/plastic_design/csink.cfm',\n",
    "'https://www.efunda.com/DesignStandards/plastic_design/insert.cfm',\n",
    "'https://www.efunda.com/DesignStandards/plastic_design/self_tap.cfm',\n",
    "'https://www.efunda.com/DesignStandards/plastic_design/hinge.cfm',\n",
    "'https://www.efunda.com/processes/machining/drill_design.cfm',\n",
    "'https://www.efunda.com/processes/machining/turn_design.cfm',\n",
    "'https://www.efunda.com/processes/machining/mill_design.cfm',\n",
    "'https://www.komaspec.com/about-us/blog/sheet-metal-design-guidelines-designing-components',\n",
    "'https://www.smlease.com/entries/sheet-metal-design/sheetmetal-design-guidelines',\n",
    "'https://www.machinedesign.com/mechanical-motion-systems/article/21832114/following-dfm-guidelines-for-working-with-sheet-metal']"
   ]
  },
  {
   "cell_type": "code",
   "execution_count": 12,
   "metadata": {},
   "outputs": [
    {
     "name": "stdout",
     "output_type": "stream",
     "text": [
      "Done with design_guidelines.htm\n",
      "Done with wall.cfm\n",
      "Done with ribs.cfm\n",
      "Done with boss.cfm\n",
      "Done with snaps.cfm\n",
      "Done with csink.cfm\n",
      "Done with insert.cfm\n",
      "Done with self_tap.cfm\n",
      "Done with hinge.cfm\n",
      "Done with drill_design.cfm\n",
      "Done with turn_design.cfm\n",
      "Done with mill_design.cfm\n",
      "Done with sheet-metal-design-guidelines-designing-components\n",
      "Done with sheetmetal-design-guidelines\n",
      "Done with following-dfm-guidelines-for-working-with-sheet-metal\n"
     ]
    }
   ],
   "source": [
    "for url in links:\n",
    "    get_text(url)"
   ]
  },
  {
   "cell_type": "code",
   "execution_count": null,
   "metadata": {},
   "outputs": [],
   "source": []
  }
 ],
 "metadata": {
  "kernelspec": {
   "display_name": "Python 3.9.7 ('base')",
   "language": "python",
   "name": "python3"
  },
  "language_info": {
   "codemirror_mode": {
    "name": "ipython",
    "version": 3
   },
   "file_extension": ".py",
   "mimetype": "text/x-python",
   "name": "python",
   "nbconvert_exporter": "python",
   "pygments_lexer": "ipython3",
   "version": "3.9.7"
  },
  "orig_nbformat": 4,
  "vscode": {
   "interpreter": {
    "hash": "dd99128efe45cf7f632cb7a0355bba7c77cb113ed91636cb4dc08454e93f5b32"
   }
  }
 },
 "nbformat": 4,
 "nbformat_minor": 2
}
